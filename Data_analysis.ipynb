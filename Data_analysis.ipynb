{
 "cells": [
  {
   "cell_type": "markdown",
   "metadata": {},
   "source": [
    "# Data Analysis Project\n",
    "\n",
    "Here are the links to the data source and location:\n",
    "* **Data Source:** MovieLens web site (filename: ml-20m.zip)\n",
    "* **Location:** https://grouplens.org/datasets/movielens/\n"
   ]
  },
  {
   "cell_type": "code",
   "execution_count": 1,
   "metadata": {},
   "outputs": [],
   "source": [
    "import numpy as np\n",
    "import pandas as pd\n",
    "import matplotlib.pyplot as plt\n"
   ]
  },
  {
   "cell_type": "markdown",
   "metadata": {},
   "source": [
    "In this notebook, I will be using three CSV files:\n",
    "\n",
    "\n",
    "* **ratings.csv :** *userId*,*movieId*,*rating*, *timestamp*\n",
    "\n",
    "* **movies.csv :** *movieId*, *title*, *genres*"
   ]
  },
  {
   "cell_type": "code",
   "execution_count": 2,
   "metadata": {},
   "outputs": [],
   "source": [
    "movies = pd.read_csv('./movielens/movies.csv',delimiter=',')\n",
    "ratings = pd.read_csv('./movielens/ratings.csv', delimiter=',')"
   ]
  },
  {
   "cell_type": "code",
   "execution_count": 3,
   "metadata": {},
   "outputs": [
    {
     "data": {
      "text/html": [
       "<div>\n",
       "<style scoped>\n",
       "    .dataframe tbody tr th:only-of-type {\n",
       "        vertical-align: middle;\n",
       "    }\n",
       "\n",
       "    .dataframe tbody tr th {\n",
       "        vertical-align: top;\n",
       "    }\n",
       "\n",
       "    .dataframe thead th {\n",
       "        text-align: right;\n",
       "    }\n",
       "</style>\n",
       "<table border=\"1\" class=\"dataframe\">\n",
       "  <thead>\n",
       "    <tr style=\"text-align: right;\">\n",
       "      <th></th>\n",
       "      <th>movieId</th>\n",
       "      <th>title</th>\n",
       "      <th>genres</th>\n",
       "    </tr>\n",
       "  </thead>\n",
       "  <tbody>\n",
       "    <tr>\n",
       "      <th>0</th>\n",
       "      <td>1</td>\n",
       "      <td>Toy Story (1995)</td>\n",
       "      <td>Adventure|Animation|Children|Comedy|Fantasy</td>\n",
       "    </tr>\n",
       "    <tr>\n",
       "      <th>1</th>\n",
       "      <td>2</td>\n",
       "      <td>Jumanji (1995)</td>\n",
       "      <td>Adventure|Children|Fantasy</td>\n",
       "    </tr>\n",
       "    <tr>\n",
       "      <th>2</th>\n",
       "      <td>3</td>\n",
       "      <td>Grumpier Old Men (1995)</td>\n",
       "      <td>Comedy|Romance</td>\n",
       "    </tr>\n",
       "    <tr>\n",
       "      <th>3</th>\n",
       "      <td>4</td>\n",
       "      <td>Waiting to Exhale (1995)</td>\n",
       "      <td>Comedy|Drama|Romance</td>\n",
       "    </tr>\n",
       "    <tr>\n",
       "      <th>4</th>\n",
       "      <td>5</td>\n",
       "      <td>Father of the Bride Part II (1995)</td>\n",
       "      <td>Comedy</td>\n",
       "    </tr>\n",
       "  </tbody>\n",
       "</table>\n",
       "</div>"
      ],
      "text/plain": [
       "   movieId                               title  \\\n",
       "0        1                    Toy Story (1995)   \n",
       "1        2                      Jumanji (1995)   \n",
       "2        3             Grumpier Old Men (1995)   \n",
       "3        4            Waiting to Exhale (1995)   \n",
       "4        5  Father of the Bride Part II (1995)   \n",
       "\n",
       "                                        genres  \n",
       "0  Adventure|Animation|Children|Comedy|Fantasy  \n",
       "1                   Adventure|Children|Fantasy  \n",
       "2                               Comedy|Romance  \n",
       "3                         Comedy|Drama|Romance  \n",
       "4                                       Comedy  "
      ]
     },
     "execution_count": 3,
     "metadata": {},
     "output_type": "execute_result"
    }
   ],
   "source": [
    "movies.head()"
   ]
  },
  {
   "cell_type": "code",
   "execution_count": 4,
   "metadata": {},
   "outputs": [
    {
     "data": {
      "text/html": [
       "<div>\n",
       "<style scoped>\n",
       "    .dataframe tbody tr th:only-of-type {\n",
       "        vertical-align: middle;\n",
       "    }\n",
       "\n",
       "    .dataframe tbody tr th {\n",
       "        vertical-align: top;\n",
       "    }\n",
       "\n",
       "    .dataframe thead th {\n",
       "        text-align: right;\n",
       "    }\n",
       "</style>\n",
       "<table border=\"1\" class=\"dataframe\">\n",
       "  <thead>\n",
       "    <tr style=\"text-align: right;\">\n",
       "      <th></th>\n",
       "      <th>userId</th>\n",
       "      <th>movieId</th>\n",
       "      <th>rating</th>\n",
       "      <th>timestamp</th>\n",
       "    </tr>\n",
       "  </thead>\n",
       "  <tbody>\n",
       "    <tr>\n",
       "      <th>0</th>\n",
       "      <td>1</td>\n",
       "      <td>31</td>\n",
       "      <td>2.5</td>\n",
       "      <td>1260759144</td>\n",
       "    </tr>\n",
       "    <tr>\n",
       "      <th>1</th>\n",
       "      <td>1</td>\n",
       "      <td>1029</td>\n",
       "      <td>3.0</td>\n",
       "      <td>1260759179</td>\n",
       "    </tr>\n",
       "    <tr>\n",
       "      <th>2</th>\n",
       "      <td>1</td>\n",
       "      <td>1061</td>\n",
       "      <td>3.0</td>\n",
       "      <td>1260759182</td>\n",
       "    </tr>\n",
       "    <tr>\n",
       "      <th>3</th>\n",
       "      <td>1</td>\n",
       "      <td>1129</td>\n",
       "      <td>2.0</td>\n",
       "      <td>1260759185</td>\n",
       "    </tr>\n",
       "    <tr>\n",
       "      <th>4</th>\n",
       "      <td>1</td>\n",
       "      <td>1172</td>\n",
       "      <td>4.0</td>\n",
       "      <td>1260759205</td>\n",
       "    </tr>\n",
       "  </tbody>\n",
       "</table>\n",
       "</div>"
      ],
      "text/plain": [
       "   userId  movieId  rating   timestamp\n",
       "0       1       31     2.5  1260759144\n",
       "1       1     1029     3.0  1260759179\n",
       "2       1     1061     3.0  1260759182\n",
       "3       1     1129     2.0  1260759185\n",
       "4       1     1172     4.0  1260759205"
      ]
     },
     "execution_count": 4,
     "metadata": {},
     "output_type": "execute_result"
    }
   ],
   "source": [
    "ratings.head()"
   ]
  },
  {
   "cell_type": "markdown",
   "metadata": {},
   "source": [
    "### Data Cleaning"
   ]
  },
  {
   "cell_type": "code",
   "execution_count": 5,
   "metadata": {},
   "outputs": [
    {
     "data": {
      "text/plain": [
       "((9125, 3), (100004, 4))"
      ]
     },
     "execution_count": 5,
     "metadata": {},
     "output_type": "execute_result"
    }
   ],
   "source": [
    "movies.shape, ratings.shape"
   ]
  },
  {
   "cell_type": "code",
   "execution_count": 6,
   "metadata": {},
   "outputs": [
    {
     "data": {
      "text/plain": [
       "movieId    False\n",
       "title      False\n",
       "genres     False\n",
       "dtype: bool"
      ]
     },
     "execution_count": 6,
     "metadata": {},
     "output_type": "execute_result"
    }
   ],
   "source": [
    "movies.isnull().any()"
   ]
  },
  {
   "cell_type": "code",
   "execution_count": 7,
   "metadata": {},
   "outputs": [
    {
     "data": {
      "text/plain": [
       "userId       False\n",
       "movieId      False\n",
       "rating       False\n",
       "timestamp    False\n",
       "dtype: bool"
      ]
     },
     "execution_count": 7,
     "metadata": {},
     "output_type": "execute_result"
    }
   ],
   "source": [
    "ratings.isnull().any()"
   ]
  },
  {
   "cell_type": "markdown",
   "metadata": {},
   "source": [
    "### Descriptive Statistics"
   ]
  },
  {
   "cell_type": "code",
   "execution_count": 8,
   "metadata": {},
   "outputs": [
    {
     "data": {
      "text/plain": [
       "count    100004.000000\n",
       "mean          3.543608\n",
       "std           1.058064\n",
       "min           0.500000\n",
       "25%           3.000000\n",
       "50%           4.000000\n",
       "75%           4.000000\n",
       "max           5.000000\n",
       "Name: rating, dtype: float64"
      ]
     },
     "execution_count": 8,
     "metadata": {},
     "output_type": "execute_result"
    }
   ],
   "source": [
    "ratings['rating'].describe()"
   ]
  },
  {
   "cell_type": "code",
   "execution_count": 10,
   "metadata": {},
   "outputs": [
    {
     "data": {
      "text/html": [
       "<div>\n",
       "<style scoped>\n",
       "    .dataframe tbody tr th:only-of-type {\n",
       "        vertical-align: middle;\n",
       "    }\n",
       "\n",
       "    .dataframe tbody tr th {\n",
       "        vertical-align: top;\n",
       "    }\n",
       "\n",
       "    .dataframe thead th {\n",
       "        text-align: right;\n",
       "    }\n",
       "</style>\n",
       "<table border=\"1\" class=\"dataframe\">\n",
       "  <thead>\n",
       "    <tr style=\"text-align: right;\">\n",
       "      <th></th>\n",
       "      <th>userId</th>\n",
       "      <th>movieId</th>\n",
       "      <th>rating</th>\n",
       "      <th>timestamp</th>\n",
       "    </tr>\n",
       "  </thead>\n",
       "  <tbody>\n",
       "    <tr>\n",
       "      <th>userId</th>\n",
       "      <td>1.000000</td>\n",
       "      <td>0.007126</td>\n",
       "      <td>0.010467</td>\n",
       "      <td>-0.035072</td>\n",
       "    </tr>\n",
       "    <tr>\n",
       "      <th>movieId</th>\n",
       "      <td>0.007126</td>\n",
       "      <td>1.000000</td>\n",
       "      <td>-0.028894</td>\n",
       "      <td>0.514742</td>\n",
       "    </tr>\n",
       "    <tr>\n",
       "      <th>rating</th>\n",
       "      <td>0.010467</td>\n",
       "      <td>-0.028894</td>\n",
       "      <td>1.000000</td>\n",
       "      <td>-0.038996</td>\n",
       "    </tr>\n",
       "    <tr>\n",
       "      <th>timestamp</th>\n",
       "      <td>-0.035072</td>\n",
       "      <td>0.514742</td>\n",
       "      <td>-0.038996</td>\n",
       "      <td>1.000000</td>\n",
       "    </tr>\n",
       "  </tbody>\n",
       "</table>\n",
       "</div>"
      ],
      "text/plain": [
       "             userId   movieId    rating  timestamp\n",
       "userId     1.000000  0.007126  0.010467  -0.035072\n",
       "movieId    0.007126  1.000000 -0.028894   0.514742\n",
       "rating     0.010467 -0.028894  1.000000  -0.038996\n",
       "timestamp -0.035072  0.514742 -0.038996   1.000000"
      ]
     },
     "execution_count": 10,
     "metadata": {},
     "output_type": "execute_result"
    }
   ],
   "source": [
    "ratings.corr()"
   ]
  },
  {
   "cell_type": "markdown",
   "metadata": {},
   "source": [
    "### Checking if rating is not less than 0 and more than 5"
   ]
  },
  {
   "cell_type": "code",
   "execution_count": 11,
   "metadata": {},
   "outputs": [
    {
     "data": {
      "text/plain": [
       "False"
      ]
     },
     "execution_count": 11,
     "metadata": {},
     "output_type": "execute_result"
    }
   ],
   "source": [
    "filter = ratings['rating'] > 5\n",
    "filter.any()"
   ]
  },
  {
   "cell_type": "code",
   "execution_count": 12,
   "metadata": {},
   "outputs": [
    {
     "data": {
      "text/plain": [
       "False"
      ]
     },
     "execution_count": 12,
     "metadata": {},
     "output_type": "execute_result"
    }
   ],
   "source": [
    "filter2 = ratings['rating'] < 0\n",
    "filter.any()"
   ]
  },
  {
   "cell_type": "markdown",
   "metadata": {},
   "source": [
    "### Data visualization"
   ]
  },
  {
   "cell_type": "code",
   "execution_count": 13,
   "metadata": {},
   "outputs": [
    {
     "data": {
      "text/plain": [
       "array([[<matplotlib.axes._subplots.AxesSubplot object at 0x0000026E3D51D6D8>]],\n",
       "      dtype=object)"
      ]
     },
     "execution_count": 13,
     "metadata": {},
     "output_type": "execute_result"
    },
    {
     "data": {
      "image/png": "[encoded data removed]",
      "text/plain": [
       "<Figure size 1080x720 with 1 Axes>"
      ]
     },
     "metadata": {},
     "output_type": "display_data"
    }
   ],
   "source": [
    "%matplotlib inline \n",
    "ratings.hist(column='rating', figsize=(15,10))"
   ]
  },
  {
   "cell_type": "code",
   "execution_count": 14,
   "metadata": {},
   "outputs": [
    {
     "data": {
      "text/plain": [
       "<matplotlib.axes._subplots.AxesSubplot at 0x26e3d711c18>"
      ]
     },
     "execution_count": 14,
     "metadata": {},
     "output_type": "execute_result"
    },
    {
     "data": {
      "image/png": "[encoded data removed]",
      "text/plain": [
       "<Figure size 1080x1440 with 1 Axes>"
      ]
     },
     "metadata": {},
     "output_type": "display_data"
    }
   ],
   "source": [
    "ratings.boxplot(column='rating', figsize=(15,20))"
   ]
  },
  {
   "cell_type": "markdown",
   "metadata": {},
   "source": [
    "### Making copy of rating dataset"
   ]
  },
  {
   "cell_type": "code",
   "execution_count": 15,
   "metadata": {},
   "outputs": [],
   "source": [
    "copy_ratings = ratings[['movieId', 'rating']].copy()"
   ]
  },
  {
   "cell_type": "markdown",
   "metadata": {},
   "source": [
    "### Taking Average of each Movie "
   ]
  },
  {
   "cell_type": "code",
   "execution_count": 16,
   "metadata": {},
   "outputs": [],
   "source": [
    "avg_ratings = copy_ratings.groupby('movieId', as_index=False).mean()"
   ]
  },
  {
   "cell_type": "code",
   "execution_count": 17,
   "metadata": {},
   "outputs": [
    {
     "data": {
      "text/plain": [
       "(9066, 2)"
      ]
     },
     "execution_count": 17,
     "metadata": {},
     "output_type": "execute_result"
    }
   ],
   "source": [
    "avg_ratings.shape"
   ]
  },
  {
   "cell_type": "markdown",
   "metadata": {},
   "source": [
    "### Spliting the genres"
   ]
  },
  {
   "cell_type": "code",
   "execution_count": 18,
   "metadata": {},
   "outputs": [],
   "source": [
    "movies['genres'] = movies['genres'].str.split('|').str.join(',')"
   ]
  },
  {
   "cell_type": "code",
   "execution_count": 19,
   "metadata": {},
   "outputs": [
    {
     "data": {
      "text/plain": [
       "movieId    False\n",
       "title      False\n",
       "genres     False\n",
       "rating     False\n",
       "dtype: bool"
      ]
     },
     "execution_count": 19,
     "metadata": {},
     "output_type": "execute_result"
    }
   ],
   "source": [
    "movies = movies.merge(avg_ratings, how='inner', on='movieId')\n",
    "movies.shape\n",
    "movies.isnull().any()"
   ]
  },
  {
   "cell_type": "code",
   "execution_count": 20,
   "metadata": {},
   "outputs": [
    {
     "data": {
      "text/plain": [
       "movieId    False\n",
       "title      False\n",
       "genres     False\n",
       "rating     False\n",
       "dtype: bool"
      ]
     },
     "execution_count": 20,
     "metadata": {},
     "output_type": "execute_result"
    }
   ],
   "source": [
    "(movies[movies.genres.iloc[:] == '(no genres listed)']) = np.nan\n",
    "movies.isnull().any()\n",
    "movies = movies.dropna()\n",
    "movies.isnull().any()"
   ]
  },
  {
   "cell_type": "code",
   "execution_count": 21,
   "metadata": {},
   "outputs": [
    {
     "data": {
      "text/plain": [
       "(9049, 4)"
      ]
     },
     "execution_count": 21,
     "metadata": {},
     "output_type": "execute_result"
    }
   ],
   "source": [
    "movies.shape"
   ]
  },
  {
   "cell_type": "markdown",
   "metadata": {},
   "source": [
    "### Unique genres"
   ]
  },
  {
   "cell_type": "code",
   "execution_count": 22,
   "metadata": {},
   "outputs": [
    {
     "data": {
      "text/plain": [
       "0       Adventure\n",
       "1          Comedy\n",
       "2          Action\n",
       "3           Drama\n",
       "4           Crime\n",
       "5        Children\n",
       "6         Mystery\n",
       "7     Documentary\n",
       "8       Animation\n",
       "9        Thriller\n",
       "10         Horror\n",
       "11        Fantasy\n",
       "12      Film-Noir\n",
       "13        Western\n",
       "14        Romance\n",
       "15         Sci-Fi\n",
       "16        Musical\n",
       "17            War\n",
       "dtype: object"
      ]
     },
     "execution_count": 22,
     "metadata": {},
     "output_type": "execute_result"
    }
   ],
   "source": [
    "genres = movies.genres.copy()\n",
    "genres = genres.str.split(',', expand=True)\n",
    "total_genres = genres[0].unique()\n",
    "total_genres = pd.Series(total_genres)\n",
    "total_genres = total_genres.dropna()\n",
    "total_genres"
   ]
  },
  {
   "cell_type": "markdown",
   "metadata": {},
   "source": [
    "### Counting the Reviews given by particular user"
   ]
  },
  {
   "cell_type": "code",
   "execution_count": 23,
   "metadata": {},
   "outputs": [
    {
     "data": {
      "text/html": [
       "<div>\n",
       "<style scoped>\n",
       "    .dataframe tbody tr th:only-of-type {\n",
       "        vertical-align: middle;\n",
       "    }\n",
       "\n",
       "    .dataframe tbody tr th {\n",
       "        vertical-align: top;\n",
       "    }\n",
       "\n",
       "    .dataframe thead th {\n",
       "        text-align: right;\n",
       "    }\n",
       "</style>\n",
       "<table border=\"1\" class=\"dataframe\">\n",
       "  <thead>\n",
       "    <tr style=\"text-align: right;\">\n",
       "      <th></th>\n",
       "      <th>userId</th>\n",
       "      <th>count</th>\n",
       "    </tr>\n",
       "  </thead>\n",
       "  <tbody>\n",
       "    <tr>\n",
       "      <th>0</th>\n",
       "      <td>1</td>\n",
       "      <td>20</td>\n",
       "    </tr>\n",
       "    <tr>\n",
       "      <th>1</th>\n",
       "      <td>2</td>\n",
       "      <td>76</td>\n",
       "    </tr>\n",
       "    <tr>\n",
       "      <th>2</th>\n",
       "      <td>3</td>\n",
       "      <td>51</td>\n",
       "    </tr>\n",
       "    <tr>\n",
       "      <th>3</th>\n",
       "      <td>4</td>\n",
       "      <td>204</td>\n",
       "    </tr>\n",
       "    <tr>\n",
       "      <th>4</th>\n",
       "      <td>5</td>\n",
       "      <td>100</td>\n",
       "    </tr>\n",
       "  </tbody>\n",
       "</table>\n",
       "</div>"
      ],
      "text/plain": [
       "   userId  count\n",
       "0       1     20\n",
       "1       2     76\n",
       "2       3     51\n",
       "3       4    204\n",
       "4       5    100"
      ]
     },
     "execution_count": 23,
     "metadata": {},
     "output_type": "execute_result"
    }
   ],
   "source": [
    "users = ratings['userId'].value_counts()\n",
    "users = pd.DataFrame(users)\n",
    "users = users.sort_index().reset_index()\n",
    "users.columns = ['userId', 'count']\n",
    "users.head()"
   ]
  },
  {
   "cell_type": "code",
   "execution_count": 24,
   "metadata": {},
   "outputs": [
    {
     "data": {
      "text/plain": [
       "'Function for finding the particular movieid for given genres'"
      ]
     },
     "execution_count": 24,
     "metadata": {},
     "output_type": "execute_result"
    }
   ],
   "source": [
    "\"\"\"Function for finding the particular movieid for given genres\"\"\"\n",
    "# def find_genres(genres):\n",
    "#     film = []\n",
    "#     index = 0\n",
    "#     for i in movies.genres.str.strip().str.split(','):\n",
    "#         for genre in i:\n",
    "#             if genre == genres:\n",
    "#                 film.append(index)\n",
    "#         index +=1\n",
    "#     return film\n",
    "    \n",
    "# for i in movies.genres.str.contains(\"Adventure\"):\n",
    "#     print(movies.movieId)\n",
    "# def find_genres1(genres):\n",
    "#     return movies.movieId[movies.genres.str.contains(\"Adventure\")]\n"
   ]
  },
  {
   "cell_type": "code",
   "execution_count": 25,
   "metadata": {},
   "outputs": [],
   "source": [
    "names = ['Adventure_movie', 'Comedy_movie', 'Action_movie', 'Drama_movie', 'Crime_movie', \\\n",
    "         'Children_movie','Mystery_movie', 'Documentary_movie', 'Animation_movie', \\\n",
    "         'Thriller_movie', 'Horror_movie','Fantasy_movie', 'Film_Noir_movie', 'Western_movie',\\\n",
    "         'Romance_movie', 'Sci_Fi_movie', 'Musical_movie','War_movie']"
   ]
  },
  {
   "cell_type": "markdown",
   "metadata": {},
   "source": [
    "### Function gives the list of names of the movies in particular genres and creating dataframe for different genres"
   ]
  },
  {
   "cell_type": "code",
   "execution_count": 26,
   "metadata": {},
   "outputs": [],
   "source": [
    "def genres_avg():\n",
    "    g = {}\n",
    "    for i in total_genres:\n",
    "        g[i] = movies.movieId[movies.genres.str.contains(i)].values\n",
    "\n",
    "    return g"
   ]
  },
  {
   "cell_type": "markdown",
   "metadata": {},
   "source": [
    "### Function gives the list of names of the movies in particular genres and creating dataframe for different genres"
   ]
  },
  {
   "cell_type": "code",
   "execution_count": 27,
   "metadata": {},
   "outputs": [],
   "source": [
    "adv = genres_avg()"
   ]
  },
  {
   "cell_type": "code",
   "execution_count": 28,
   "metadata": {},
   "outputs": [],
   "source": [
    "adv = genres_avg()\n",
    "def naming_series():\n",
    "    for dick, name in zip(adv, names):\n",
    "            globals()[name] = pd.DataFrame(pd.Series(adv[dick]),columns=['movieId'])  # globals makes the variables in loops\n",
    "\n",
    "naming_series()"
   ]
  },
  {
   "cell_type": "markdown",
   "metadata": {},
   "source": [
    "### Function merge df_movies and movies "
   ]
  },
  {
   "cell_type": "code",
   "execution_count": 29,
   "metadata": {},
   "outputs": [],
   "source": [
    "df_movies = [Adventure_movie, Comedy_movie, Action_movie, Drama_movie, Crime_movie, \\\n",
    "         Children_movie,Mystery_movie, Documentary_movie, Animation_movie, \\\n",
    "         Thriller_movie, Horror_movie,Fantasy_movie, Film_Noir_movie, Western_movie,\\\n",
    "         Romance_movie, Sci_Fi_movie, Musical_movie,War_movie]\n",
    "def merger(dataseries, names):\n",
    "    for i, name in zip(dataseries, names):\n",
    "        globals()[name] = movies.merge(i, on='movieId', how='inner')\n",
    "merger(df_movies, names)"
   ]
  },
  {
   "cell_type": "markdown",
   "metadata": {},
   "source": [
    "## Getting the information of each genres"
   ]
  },
  {
   "cell_type": "code",
   "execution_count": 30,
   "metadata": {},
   "outputs": [
    {
     "data": {
      "text/html": [
       "<div>\n",
       "<style scoped>\n",
       "    .dataframe tbody tr th:only-of-type {\n",
       "        vertical-align: middle;\n",
       "    }\n",
       "\n",
       "    .dataframe tbody tr th {\n",
       "        vertical-align: top;\n",
       "    }\n",
       "\n",
       "    .dataframe thead th {\n",
       "        text-align: right;\n",
       "    }\n",
       "</style>\n",
       "<table border=\"1\" class=\"dataframe\">\n",
       "  <thead>\n",
       "    <tr style=\"text-align: right;\">\n",
       "      <th></th>\n",
       "      <th>Adventure</th>\n",
       "      <th>Comedy</th>\n",
       "      <th>Action</th>\n",
       "      <th>Drama</th>\n",
       "      <th>Crime</th>\n",
       "      <th>Children</th>\n",
       "      <th>Mystery</th>\n",
       "      <th>Documentary</th>\n",
       "      <th>Animation</th>\n",
       "      <th>Thriller</th>\n",
       "      <th>Horror</th>\n",
       "      <th>Fantasy</th>\n",
       "      <th>Film-Noir</th>\n",
       "      <th>Western</th>\n",
       "      <th>Romance</th>\n",
       "      <th>Sci-Fi</th>\n",
       "      <th>Musical</th>\n",
       "      <th>War</th>\n",
       "    </tr>\n",
       "  </thead>\n",
       "  <tbody>\n",
       "    <tr>\n",
       "      <th>count</th>\n",
       "      <td>1116.000000</td>\n",
       "      <td>3307.000000</td>\n",
       "      <td>1543.000000</td>\n",
       "      <td>4328.000000</td>\n",
       "      <td>1092.000000</td>\n",
       "      <td>582.000000</td>\n",
       "      <td>537.000000</td>\n",
       "      <td>487.000000</td>\n",
       "      <td>447.000000</td>\n",
       "      <td>1717.000000</td>\n",
       "      <td>872.000000</td>\n",
       "      <td>653.000000</td>\n",
       "      <td>121.000000</td>\n",
       "      <td>168.000000</td>\n",
       "      <td>1541.000000</td>\n",
       "      <td>791.000000</td>\n",
       "      <td>394.000000</td>\n",
       "      <td>366.000000</td>\n",
       "    </tr>\n",
       "    <tr>\n",
       "      <th>mean</th>\n",
       "      <td>3.229862</td>\n",
       "      <td>3.190353</td>\n",
       "      <td>3.090863</td>\n",
       "      <td>3.447417</td>\n",
       "      <td>3.301617</td>\n",
       "      <td>3.138675</td>\n",
       "      <td>3.383182</td>\n",
       "      <td>3.686744</td>\n",
       "      <td>3.418974</td>\n",
       "      <td>3.183073</td>\n",
       "      <td>2.991933</td>\n",
       "      <td>3.183827</td>\n",
       "      <td>3.669072</td>\n",
       "      <td>3.421001</td>\n",
       "      <td>3.344588</td>\n",
       "      <td>3.167052</td>\n",
       "      <td>3.334025</td>\n",
       "      <td>3.534021</td>\n",
       "    </tr>\n",
       "    <tr>\n",
       "      <th>std</th>\n",
       "      <td>0.809380</td>\n",
       "      <td>0.891052</td>\n",
       "      <td>0.850966</td>\n",
       "      <td>0.823185</td>\n",
       "      <td>0.852795</td>\n",
       "      <td>0.848254</td>\n",
       "      <td>0.777867</td>\n",
       "      <td>0.833508</td>\n",
       "      <td>0.820935</td>\n",
       "      <td>0.818853</td>\n",
       "      <td>0.911257</td>\n",
       "      <td>0.882802</td>\n",
       "      <td>0.652434</td>\n",
       "      <td>0.760113</td>\n",
       "      <td>0.827895</td>\n",
       "      <td>0.813392</td>\n",
       "      <td>0.847645</td>\n",
       "      <td>0.844513</td>\n",
       "    </tr>\n",
       "    <tr>\n",
       "      <th>min</th>\n",
       "      <td>0.500000</td>\n",
       "      <td>0.500000</td>\n",
       "      <td>0.500000</td>\n",
       "      <td>0.500000</td>\n",
       "      <td>0.500000</td>\n",
       "      <td>0.500000</td>\n",
       "      <td>0.500000</td>\n",
       "      <td>0.500000</td>\n",
       "      <td>0.500000</td>\n",
       "      <td>0.500000</td>\n",
       "      <td>0.500000</td>\n",
       "      <td>0.500000</td>\n",
       "      <td>1.000000</td>\n",
       "      <td>0.500000</td>\n",
       "      <td>0.500000</td>\n",
       "      <td>0.500000</td>\n",
       "      <td>0.500000</td>\n",
       "      <td>0.500000</td>\n",
       "    </tr>\n",
       "    <tr>\n",
       "      <th>25%</th>\n",
       "      <td>2.751659</td>\n",
       "      <td>2.666667</td>\n",
       "      <td>2.512500</td>\n",
       "      <td>3.000000</td>\n",
       "      <td>2.888889</td>\n",
       "      <td>2.684441</td>\n",
       "      <td>3.000000</td>\n",
       "      <td>3.250000</td>\n",
       "      <td>3.000000</td>\n",
       "      <td>2.750000</td>\n",
       "      <td>2.500000</td>\n",
       "      <td>2.727273</td>\n",
       "      <td>3.500000</td>\n",
       "      <td>3.000000</td>\n",
       "      <td>3.000000</td>\n",
       "      <td>2.698214</td>\n",
       "      <td>3.000000</td>\n",
       "      <td>3.000000</td>\n",
       "    </tr>\n",
       "    <tr>\n",
       "      <th>50%</th>\n",
       "      <td>3.357143</td>\n",
       "      <td>3.273585</td>\n",
       "      <td>3.187500</td>\n",
       "      <td>3.500000</td>\n",
       "      <td>3.500000</td>\n",
       "      <td>3.271408</td>\n",
       "      <td>3.500000</td>\n",
       "      <td>3.937500</td>\n",
       "      <td>3.500000</td>\n",
       "      <td>3.300000</td>\n",
       "      <td>3.000000</td>\n",
       "      <td>3.284810</td>\n",
       "      <td>3.750000</td>\n",
       "      <td>3.500000</td>\n",
       "      <td>3.500000</td>\n",
       "      <td>3.250000</td>\n",
       "      <td>3.500000</td>\n",
       "      <td>3.674424</td>\n",
       "    </tr>\n",
       "    <tr>\n",
       "      <th>75%</th>\n",
       "      <td>3.774107</td>\n",
       "      <td>3.817477</td>\n",
       "      <td>3.676945</td>\n",
       "      <td>4.000000</td>\n",
       "      <td>3.947069</td>\n",
       "      <td>3.687194</td>\n",
       "      <td>3.937500</td>\n",
       "      <td>4.211111</td>\n",
       "      <td>4.000000</td>\n",
       "      <td>3.750000</td>\n",
       "      <td>3.541667</td>\n",
       "      <td>3.777778</td>\n",
       "      <td>4.000000</td>\n",
       "      <td>4.000000</td>\n",
       "      <td>3.928571</td>\n",
       "      <td>3.750000</td>\n",
       "      <td>3.879464</td>\n",
       "      <td>4.016304</td>\n",
       "    </tr>\n",
       "    <tr>\n",
       "      <th>max</th>\n",
       "      <td>5.000000</td>\n",
       "      <td>5.000000</td>\n",
       "      <td>5.000000</td>\n",
       "      <td>5.000000</td>\n",
       "      <td>5.000000</td>\n",
       "      <td>5.000000</td>\n",
       "      <td>5.000000</td>\n",
       "      <td>5.000000</td>\n",
       "      <td>5.000000</td>\n",
       "      <td>5.000000</td>\n",
       "      <td>5.000000</td>\n",
       "      <td>5.000000</td>\n",
       "      <td>5.000000</td>\n",
       "      <td>5.000000</td>\n",
       "      <td>5.000000</td>\n",
       "      <td>5.000000</td>\n",
       "      <td>5.000000</td>\n",
       "      <td>5.000000</td>\n",
       "    </tr>\n",
       "  </tbody>\n",
       "</table>\n",
       "</div>"
      ],
      "text/plain": [
       "         Adventure       Comedy       Action        Drama        Crime  \\\n",
       "count  1116.000000  3307.000000  1543.000000  4328.000000  1092.000000   \n",
       "mean      3.229862     3.190353     3.090863     3.447417     3.301617   \n",
       "std       0.809380     0.891052     0.850966     0.823185     0.852795   \n",
       "min       0.500000     0.500000     0.500000     0.500000     0.500000   \n",
       "25%       2.751659     2.666667     2.512500     3.000000     2.888889   \n",
       "50%       3.357143     3.273585     3.187500     3.500000     3.500000   \n",
       "75%       3.774107     3.817477     3.676945     4.000000     3.947069   \n",
       "max       5.000000     5.000000     5.000000     5.000000     5.000000   \n",
       "\n",
       "         Children     Mystery  Documentary   Animation     Thriller  \\\n",
       "count  582.000000  537.000000   487.000000  447.000000  1717.000000   \n",
       "mean     3.138675    3.383182     3.686744    3.418974     3.183073   \n",
       "std      0.848254    0.777867     0.833508    0.820935     0.818853   \n",
       "min      0.500000    0.500000     0.500000    0.500000     0.500000   \n",
       "25%      2.684441    3.000000     3.250000    3.000000     2.750000   \n",
       "50%      3.271408    3.500000     3.937500    3.500000     3.300000   \n",
       "75%      3.687194    3.937500     4.211111    4.000000     3.750000   \n",
       "max      5.000000    5.000000     5.000000    5.000000     5.000000   \n",
       "\n",
       "           Horror     Fantasy   Film-Noir     Western      Romance  \\\n",
       "count  872.000000  653.000000  121.000000  168.000000  1541.000000   \n",
       "mean     2.991933    3.183827    3.669072    3.421001     3.344588   \n",
       "std      0.911257    0.882802    0.652434    0.760113     0.827895   \n",
       "min      0.500000    0.500000    1.000000    0.500000     0.500000   \n",
       "25%      2.500000    2.727273    3.500000    3.000000     3.000000   \n",
       "50%      3.000000    3.284810    3.750000    3.500000     3.500000   \n",
       "75%      3.541667    3.777778    4.000000    4.000000     3.928571   \n",
       "max      5.000000    5.000000    5.000000    5.000000     5.000000   \n",
       "\n",
       "           Sci-Fi     Musical         War  \n",
       "count  791.000000  394.000000  366.000000  \n",
       "mean     3.167052    3.334025    3.534021  \n",
       "std      0.813392    0.847645    0.844513  \n",
       "min      0.500000    0.500000    0.500000  \n",
       "25%      2.698214    3.000000    3.000000  \n",
       "50%      3.250000    3.500000    3.674424  \n",
       "75%      3.750000    3.879464    4.016304  \n",
       "max      5.000000    5.000000    5.000000  "
      ]
     },
     "execution_count": 30,
     "metadata": {},
     "output_type": "execute_result"
    }
   ],
   "source": [
    "mean_of_genres = pd.DataFrame()\n",
    "df_movies = [Adventure_movie, Comedy_movie, Action_movie, Drama_movie, Crime_movie, \\\n",
    "         Children_movie,Mystery_movie, Documentary_movie, Animation_movie, \\\n",
    "         Thriller_movie, Horror_movie,Fantasy_movie, Film_Noir_movie, Western_movie,\\\n",
    "         Romance_movie, Sci_Fi_movie, Musical_movie,War_movie]\n",
    "for i,name in zip(df_movies,total_genres):\n",
    "    mean_of_genres[name] = i['rating'].describe()\n",
    "\n",
    "mean_of_genres\n"
   ]
  },
  {
   "cell_type": "code",
   "execution_count": null,
   "metadata": {},
   "outputs": [],
   "source": []
  },
  {
   "cell_type": "code",
   "execution_count": null,
   "metadata": {},
   "outputs": [],
   "source": []
  },
  {
   "cell_type": "code",
   "execution_count": null,
   "metadata": {},
   "outputs": [],
   "source": []
  }
 ],
 "metadata": {
  "kernelspec": {
   "display_name": "Python 3",
   "language": "python",
   "name": "python3"
  },
  "language_info": {
   "codemirror_mode": {
    "name": "ipython",
    "version": 3
   },
   "file_extension": ".py",
   "mimetype": "text/x-python",
   "name": "python",
   "nbconvert_exporter": "python",
   "pygments_lexer": "ipython3",
   "version": "3.6.5"
  }
 },
 "nbformat": 4,
 "nbformat_minor": 2
}
